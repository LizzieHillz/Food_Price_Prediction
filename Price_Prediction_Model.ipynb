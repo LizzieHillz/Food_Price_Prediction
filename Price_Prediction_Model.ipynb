{
 "cells": [
  {
   "cell_type": "code",
   "execution_count": 1,
   "id": "a801e312-31e2-41ea-94bb-d72b4ecd39ad",
   "metadata": {},
   "outputs": [],
   "source": [
    "#Importing the necessary libraries\n",
    "import pandas as pd\n",
    "import numpy as np\n",
    "import matplotlib.pyplot as plt\n",
    "import seaborn as sns\n",
    "import warnings\n",
    "warnings.filterwarnings('ignore')"
   ]
  },
  {
   "cell_type": "code",
   "execution_count": 2,
   "id": "d8987386-b24c-4535-94c4-b21b3477f0c0",
   "metadata": {},
   "outputs": [
    {
     "data": {
      "text/html": [
       "<div>\n",
       "<style scoped>\n",
       "    .dataframe tbody tr th:only-of-type {\n",
       "        vertical-align: middle;\n",
       "    }\n",
       "\n",
       "    .dataframe tbody tr th {\n",
       "        vertical-align: top;\n",
       "    }\n",
       "\n",
       "    .dataframe thead th {\n",
       "        text-align: right;\n",
       "    }\n",
       "</style>\n",
       "<table border=\"1\" class=\"dataframe\">\n",
       "  <thead>\n",
       "    <tr style=\"text-align: right;\">\n",
       "      <th></th>\n",
       "      <th>Country</th>\n",
       "      <th>Region</th>\n",
       "      <th>Market</th>\n",
       "      <th>Product</th>\n",
       "      <th>Date</th>\n",
       "      <th>Open</th>\n",
       "      <th>High</th>\n",
       "      <th>Low</th>\n",
       "      <th>Close</th>\n",
       "      <th>Currency</th>\n",
       "    </tr>\n",
       "  </thead>\n",
       "  <tbody>\n",
       "    <tr>\n",
       "      <th>0</th>\n",
       "      <td>Nigeria</td>\n",
       "      <td>Market Average</td>\n",
       "      <td>Market Average</td>\n",
       "      <td>bread</td>\n",
       "      <td>01/01/2007</td>\n",
       "      <td>27.89</td>\n",
       "      <td>29.11</td>\n",
       "      <td>26.65</td>\n",
       "      <td>27.89</td>\n",
       "      <td>NGN</td>\n",
       "    </tr>\n",
       "    <tr>\n",
       "      <th>1</th>\n",
       "      <td>Nigeria</td>\n",
       "      <td>Market Average</td>\n",
       "      <td>Market Average</td>\n",
       "      <td>bread</td>\n",
       "      <td>01/02/2007</td>\n",
       "      <td>27.88</td>\n",
       "      <td>29.11</td>\n",
       "      <td>26.65</td>\n",
       "      <td>26.75</td>\n",
       "      <td>NGN</td>\n",
       "    </tr>\n",
       "    <tr>\n",
       "      <th>2</th>\n",
       "      <td>Nigeria</td>\n",
       "      <td>Market Average</td>\n",
       "      <td>Market Average</td>\n",
       "      <td>bread</td>\n",
       "      <td>01/03/2007</td>\n",
       "      <td>26.35</td>\n",
       "      <td>27.51</td>\n",
       "      <td>25.18</td>\n",
       "      <td>27.31</td>\n",
       "      <td>NGN</td>\n",
       "    </tr>\n",
       "    <tr>\n",
       "      <th>3</th>\n",
       "      <td>Nigeria</td>\n",
       "      <td>Market Average</td>\n",
       "      <td>Market Average</td>\n",
       "      <td>bread</td>\n",
       "      <td>01/04/2007</td>\n",
       "      <td>27.46</td>\n",
       "      <td>28.63</td>\n",
       "      <td>26.28</td>\n",
       "      <td>26.84</td>\n",
       "      <td>NGN</td>\n",
       "    </tr>\n",
       "    <tr>\n",
       "      <th>4</th>\n",
       "      <td>Nigeria</td>\n",
       "      <td>Market Average</td>\n",
       "      <td>Market Average</td>\n",
       "      <td>bread</td>\n",
       "      <td>01/05/2007</td>\n",
       "      <td>26.65</td>\n",
       "      <td>27.78</td>\n",
       "      <td>25.51</td>\n",
       "      <td>26.95</td>\n",
       "      <td>NGN</td>\n",
       "    </tr>\n",
       "    <tr>\n",
       "      <th>5</th>\n",
       "      <td>Nigeria</td>\n",
       "      <td>Market Average</td>\n",
       "      <td>Market Average</td>\n",
       "      <td>bread</td>\n",
       "      <td>01/06/2007</td>\n",
       "      <td>27.02</td>\n",
       "      <td>28.14</td>\n",
       "      <td>25.90</td>\n",
       "      <td>27.01</td>\n",
       "      <td>NGN</td>\n",
       "    </tr>\n",
       "    <tr>\n",
       "      <th>6</th>\n",
       "      <td>Nigeria</td>\n",
       "      <td>Market Average</td>\n",
       "      <td>Market Average</td>\n",
       "      <td>bread</td>\n",
       "      <td>01/07/2007</td>\n",
       "      <td>26.97</td>\n",
       "      <td>28.07</td>\n",
       "      <td>25.87</td>\n",
       "      <td>26.67</td>\n",
       "      <td>NGN</td>\n",
       "    </tr>\n",
       "    <tr>\n",
       "      <th>7</th>\n",
       "      <td>Nigeria</td>\n",
       "      <td>Market Average</td>\n",
       "      <td>Market Average</td>\n",
       "      <td>bread</td>\n",
       "      <td>01/08/2007</td>\n",
       "      <td>26.61</td>\n",
       "      <td>27.67</td>\n",
       "      <td>25.54</td>\n",
       "      <td>27.48</td>\n",
       "      <td>NGN</td>\n",
       "    </tr>\n",
       "    <tr>\n",
       "      <th>8</th>\n",
       "      <td>Nigeria</td>\n",
       "      <td>Market Average</td>\n",
       "      <td>Market Average</td>\n",
       "      <td>bread</td>\n",
       "      <td>01/09/2007</td>\n",
       "      <td>27.72</td>\n",
       "      <td>28.81</td>\n",
       "      <td>26.63</td>\n",
       "      <td>28.47</td>\n",
       "      <td>NGN</td>\n",
       "    </tr>\n",
       "    <tr>\n",
       "      <th>9</th>\n",
       "      <td>Nigeria</td>\n",
       "      <td>Market Average</td>\n",
       "      <td>Market Average</td>\n",
       "      <td>bread</td>\n",
       "      <td>01/10/2007</td>\n",
       "      <td>28.91</td>\n",
       "      <td>30.27</td>\n",
       "      <td>27.80</td>\n",
       "      <td>30.27</td>\n",
       "      <td>NGN</td>\n",
       "    </tr>\n",
       "  </tbody>\n",
       "</table>\n",
       "</div>"
      ],
      "text/plain": [
       "   Country          Region          Market Product        Date   Open   High  \\\n",
       "0  Nigeria  Market Average  Market Average   bread  01/01/2007  27.89  29.11   \n",
       "1  Nigeria  Market Average  Market Average   bread  01/02/2007  27.88  29.11   \n",
       "2  Nigeria  Market Average  Market Average   bread  01/03/2007  26.35  27.51   \n",
       "3  Nigeria  Market Average  Market Average   bread  01/04/2007  27.46  28.63   \n",
       "4  Nigeria  Market Average  Market Average   bread  01/05/2007  26.65  27.78   \n",
       "5  Nigeria  Market Average  Market Average   bread  01/06/2007  27.02  28.14   \n",
       "6  Nigeria  Market Average  Market Average   bread  01/07/2007  26.97  28.07   \n",
       "7  Nigeria  Market Average  Market Average   bread  01/08/2007  26.61  27.67   \n",
       "8  Nigeria  Market Average  Market Average   bread  01/09/2007  27.72  28.81   \n",
       "9  Nigeria  Market Average  Market Average   bread  01/10/2007  28.91  30.27   \n",
       "\n",
       "     Low  Close Currency  \n",
       "0  26.65  27.89      NGN  \n",
       "1  26.65  26.75      NGN  \n",
       "2  25.18  27.31      NGN  \n",
       "3  26.28  26.84      NGN  \n",
       "4  25.51  26.95      NGN  \n",
       "5  25.90  27.01      NGN  \n",
       "6  25.87  26.67      NGN  \n",
       "7  25.54  27.48      NGN  \n",
       "8  26.63  28.47      NGN  \n",
       "9  27.80  30.27      NGN  "
      ]
     },
     "execution_count": 2,
     "metadata": {},
     "output_type": "execute_result"
    }
   ],
   "source": [
    "# Load dataset\n",
    "file_path = (r\"C:\\Users\\chiso\\Documents\\Africa_Agility\\Hackathon\\PriceModel\\world_bank_data.csv\")\n",
    "df = pd.read_csv(file_path)\n",
    "df.head(10)"
   ]
  },
  {
   "cell_type": "code",
   "execution_count": 3,
   "id": "2ef943ec-1e5a-40bc-b805-84f88a97a0f5",
   "metadata": {},
   "outputs": [
    {
     "name": "stdout",
     "output_type": "stream",
     "text": [
      "Dataset Info:\n",
      "<class 'pandas.core.frame.DataFrame'>\n",
      "RangeIndex: 2190 entries, 0 to 2189\n",
      "Data columns (total 10 columns):\n",
      " #   Column    Non-Null Count  Dtype  \n",
      "---  ------    --------------  -----  \n",
      " 0   Country   2190 non-null   object \n",
      " 1   Region    2190 non-null   object \n",
      " 2   Market    2190 non-null   object \n",
      " 3   Product   2190 non-null   object \n",
      " 4   Date      2190 non-null   object \n",
      " 5   Open      2190 non-null   float64\n",
      " 6   High      2190 non-null   float64\n",
      " 7   Low       2190 non-null   float64\n",
      " 8   Close     2190 non-null   float64\n",
      " 9   Currency  2190 non-null   object \n",
      "dtypes: float64(4), object(6)\n",
      "memory usage: 171.2+ KB\n"
     ]
    }
   ],
   "source": [
    "# Display basic info\n",
    "print(\"Dataset Info:\")\n",
    "df.info()"
   ]
  },
  {
   "cell_type": "code",
   "execution_count": 4,
   "id": "cb54fe2f-e11a-4b2a-9764-df2057799fb0",
   "metadata": {},
   "outputs": [
    {
     "data": {
      "text/plain": [
       "Index(['Country', 'Region', 'Market', 'Product', 'Date', 'Open', 'High', 'Low',\n",
       "       'Close', 'Currency'],\n",
       "      dtype='object')"
      ]
     },
     "execution_count": 4,
     "metadata": {},
     "output_type": "execute_result"
    }
   ],
   "source": [
    "df.columns"
   ]
  },
  {
   "cell_type": "code",
   "execution_count": 5,
   "id": "f62382c5-c6e9-413c-96c6-94f59c7ce9de",
   "metadata": {},
   "outputs": [
    {
     "data": {
      "text/plain": [
       "Country        1\n",
       "Region         1\n",
       "Market         1\n",
       "Product       10\n",
       "Date         219\n",
       "Open        2173\n",
       "High        2184\n",
       "Low         2179\n",
       "Close       2117\n",
       "Currency       1\n",
       "dtype: int64"
      ]
     },
     "execution_count": 5,
     "metadata": {},
     "output_type": "execute_result"
    }
   ],
   "source": [
    "df.nunique()"
   ]
  },
  {
   "cell_type": "code",
   "execution_count": 6,
   "id": "f28fb125-9172-468d-ae6c-9585e9bcbb47",
   "metadata": {},
   "outputs": [
    {
     "data": {
      "text/plain": [
       "(2190, 10)"
      ]
     },
     "execution_count": 6,
     "metadata": {},
     "output_type": "execute_result"
    }
   ],
   "source": [
    "df.shape"
   ]
  },
  {
   "cell_type": "code",
   "execution_count": 7,
   "id": "7d6e1c66-5f3d-4bda-9c8d-bd47c088a384",
   "metadata": {},
   "outputs": [
    {
     "name": "stdout",
     "output_type": "stream",
     "text": [
      "\n",
      "Missing Values:\n",
      "Country     0\n",
      "Region      0\n",
      "Market      0\n",
      "Product     0\n",
      "Date        0\n",
      "Open        0\n",
      "High        0\n",
      "Low         0\n",
      "Close       0\n",
      "Currency    0\n",
      "dtype: int64\n"
     ]
    }
   ],
   "source": [
    "# Checking for missing values\n",
    "print(\"\\nMissing Values:\")\n",
    "print(df.isnull().sum())"
   ]
  },
  {
   "cell_type": "code",
   "execution_count": 8,
   "id": "3d3ca64d-38be-4f50-bb28-a018f1f9e70b",
   "metadata": {},
   "outputs": [
    {
     "name": "stdout",
     "output_type": "stream",
     "text": [
      "\n",
      "Duplicate Values:\n",
      "0\n"
     ]
    }
   ],
   "source": [
    "# Checking for duplicate values\n",
    "print(\"\\nDuplicate Values:\")\n",
    "print(df.duplicated().sum())"
   ]
  },
  {
   "cell_type": "code",
   "execution_count": 9,
   "id": "56ff78fb-8c4a-481d-8b36-0daad5619afe",
   "metadata": {},
   "outputs": [
    {
     "name": "stdout",
     "output_type": "stream",
     "text": [
      "['bread' 'cassava_meal' 'cowpeas' 'gari' 'groundnuts' 'maize' 'millet'\n",
      " 'rice' 'sorghum' 'yam']\n"
     ]
    }
   ],
   "source": [
    "# Check unique values in the Product column\n",
    "print(df['Product'].unique())"
   ]
  },
  {
   "cell_type": "code",
   "execution_count": 10,
   "id": "370f0f44-7e37-417c-ad93-5e5f84edd8b2",
   "metadata": {},
   "outputs": [],
   "source": [
    "df = df[~df['Product'].str.lower().eq('bread')]"
   ]
  },
  {
   "cell_type": "code",
   "execution_count": 11,
   "id": "b99e39c6-3ac3-4d9a-b88b-fc8d7464f693",
   "metadata": {},
   "outputs": [
    {
     "data": {
      "text/html": [
       "<div>\n",
       "<style scoped>\n",
       "    .dataframe tbody tr th:only-of-type {\n",
       "        vertical-align: middle;\n",
       "    }\n",
       "\n",
       "    .dataframe tbody tr th {\n",
       "        vertical-align: top;\n",
       "    }\n",
       "\n",
       "    .dataframe thead th {\n",
       "        text-align: right;\n",
       "    }\n",
       "</style>\n",
       "<table border=\"1\" class=\"dataframe\">\n",
       "  <thead>\n",
       "    <tr style=\"text-align: right;\">\n",
       "      <th></th>\n",
       "      <th>Country</th>\n",
       "      <th>Region</th>\n",
       "      <th>Market</th>\n",
       "      <th>Product</th>\n",
       "      <th>Date</th>\n",
       "      <th>Open</th>\n",
       "      <th>High</th>\n",
       "      <th>Low</th>\n",
       "      <th>Close</th>\n",
       "      <th>Currency</th>\n",
       "    </tr>\n",
       "  </thead>\n",
       "  <tbody>\n",
       "    <tr>\n",
       "      <th>219</th>\n",
       "      <td>Nigeria</td>\n",
       "      <td>Market Average</td>\n",
       "      <td>Market Average</td>\n",
       "      <td>cassava_meal</td>\n",
       "      <td>2007-01-01</td>\n",
       "      <td>10820.99</td>\n",
       "      <td>11003.31</td>\n",
       "      <td>10567.71</td>\n",
       "      <td>10867.12</td>\n",
       "      <td>NGN</td>\n",
       "    </tr>\n",
       "    <tr>\n",
       "      <th>220</th>\n",
       "      <td>Nigeria</td>\n",
       "      <td>Market Average</td>\n",
       "      <td>Market Average</td>\n",
       "      <td>cassava_meal</td>\n",
       "      <td>2007-01-02</td>\n",
       "      <td>10831.49</td>\n",
       "      <td>11050.21</td>\n",
       "      <td>10612.76</td>\n",
       "      <td>10709.98</td>\n",
       "      <td>NGN</td>\n",
       "    </tr>\n",
       "    <tr>\n",
       "      <th>221</th>\n",
       "      <td>Nigeria</td>\n",
       "      <td>Market Average</td>\n",
       "      <td>Market Average</td>\n",
       "      <td>cassava_meal</td>\n",
       "      <td>2007-01-03</td>\n",
       "      <td>10641.89</td>\n",
       "      <td>10844.51</td>\n",
       "      <td>10439.27</td>\n",
       "      <td>10632.82</td>\n",
       "      <td>NGN</td>\n",
       "    </tr>\n",
       "    <tr>\n",
       "      <th>222</th>\n",
       "      <td>Nigeria</td>\n",
       "      <td>Market Average</td>\n",
       "      <td>Market Average</td>\n",
       "      <td>cassava_meal</td>\n",
       "      <td>2007-01-04</td>\n",
       "      <td>10586.58</td>\n",
       "      <td>10774.64</td>\n",
       "      <td>10398.52</td>\n",
       "      <td>10528.30</td>\n",
       "      <td>NGN</td>\n",
       "    </tr>\n",
       "    <tr>\n",
       "      <th>223</th>\n",
       "      <td>Nigeria</td>\n",
       "      <td>Market Average</td>\n",
       "      <td>Market Average</td>\n",
       "      <td>cassava_meal</td>\n",
       "      <td>2007-01-05</td>\n",
       "      <td>10510.32</td>\n",
       "      <td>10687.74</td>\n",
       "      <td>10332.89</td>\n",
       "      <td>10619.99</td>\n",
       "      <td>NGN</td>\n",
       "    </tr>\n",
       "    <tr>\n",
       "      <th>...</th>\n",
       "      <td>...</td>\n",
       "      <td>...</td>\n",
       "      <td>...</td>\n",
       "      <td>...</td>\n",
       "      <td>...</td>\n",
       "      <td>...</td>\n",
       "      <td>...</td>\n",
       "      <td>...</td>\n",
       "      <td>...</td>\n",
       "      <td>...</td>\n",
       "    </tr>\n",
       "    <tr>\n",
       "      <th>2185</th>\n",
       "      <td>Nigeria</td>\n",
       "      <td>Market Average</td>\n",
       "      <td>Market Average</td>\n",
       "      <td>yam</td>\n",
       "      <td>2024-01-11</td>\n",
       "      <td>557.84</td>\n",
       "      <td>559.98</td>\n",
       "      <td>554.81</td>\n",
       "      <td>554.81</td>\n",
       "      <td>NGN</td>\n",
       "    </tr>\n",
       "    <tr>\n",
       "      <th>2186</th>\n",
       "      <td>Nigeria</td>\n",
       "      <td>Market Average</td>\n",
       "      <td>Market Average</td>\n",
       "      <td>yam</td>\n",
       "      <td>2024-01-12</td>\n",
       "      <td>561.29</td>\n",
       "      <td>580.89</td>\n",
       "      <td>541.64</td>\n",
       "      <td>541.64</td>\n",
       "      <td>NGN</td>\n",
       "    </tr>\n",
       "    <tr>\n",
       "      <th>2187</th>\n",
       "      <td>Nigeria</td>\n",
       "      <td>Market Average</td>\n",
       "      <td>Market Average</td>\n",
       "      <td>yam</td>\n",
       "      <td>2025-01-01</td>\n",
       "      <td>544.01</td>\n",
       "      <td>561.97</td>\n",
       "      <td>526.05</td>\n",
       "      <td>541.30</td>\n",
       "      <td>NGN</td>\n",
       "    </tr>\n",
       "    <tr>\n",
       "      <th>2188</th>\n",
       "      <td>Nigeria</td>\n",
       "      <td>Market Average</td>\n",
       "      <td>Market Average</td>\n",
       "      <td>yam</td>\n",
       "      <td>2025-01-02</td>\n",
       "      <td>548.31</td>\n",
       "      <td>555.43</td>\n",
       "      <td>540.56</td>\n",
       "      <td>540.56</td>\n",
       "      <td>NGN</td>\n",
       "    </tr>\n",
       "    <tr>\n",
       "      <th>2189</th>\n",
       "      <td>Nigeria</td>\n",
       "      <td>Market Average</td>\n",
       "      <td>Market Average</td>\n",
       "      <td>yam</td>\n",
       "      <td>2025-01-03</td>\n",
       "      <td>547.39</td>\n",
       "      <td>561.76</td>\n",
       "      <td>533.02</td>\n",
       "      <td>539.94</td>\n",
       "      <td>NGN</td>\n",
       "    </tr>\n",
       "  </tbody>\n",
       "</table>\n",
       "<p>1971 rows × 10 columns</p>\n",
       "</div>"
      ],
      "text/plain": [
       "      Country          Region          Market       Product       Date  \\\n",
       "219   Nigeria  Market Average  Market Average  cassava_meal 2007-01-01   \n",
       "220   Nigeria  Market Average  Market Average  cassava_meal 2007-01-02   \n",
       "221   Nigeria  Market Average  Market Average  cassava_meal 2007-01-03   \n",
       "222   Nigeria  Market Average  Market Average  cassava_meal 2007-01-04   \n",
       "223   Nigeria  Market Average  Market Average  cassava_meal 2007-01-05   \n",
       "...       ...             ...             ...           ...        ...   \n",
       "2185  Nigeria  Market Average  Market Average           yam 2024-01-11   \n",
       "2186  Nigeria  Market Average  Market Average           yam 2024-01-12   \n",
       "2187  Nigeria  Market Average  Market Average           yam 2025-01-01   \n",
       "2188  Nigeria  Market Average  Market Average           yam 2025-01-02   \n",
       "2189  Nigeria  Market Average  Market Average           yam 2025-01-03   \n",
       "\n",
       "          Open      High       Low     Close Currency  \n",
       "219   10820.99  11003.31  10567.71  10867.12      NGN  \n",
       "220   10831.49  11050.21  10612.76  10709.98      NGN  \n",
       "221   10641.89  10844.51  10439.27  10632.82      NGN  \n",
       "222   10586.58  10774.64  10398.52  10528.30      NGN  \n",
       "223   10510.32  10687.74  10332.89  10619.99      NGN  \n",
       "...        ...       ...       ...       ...      ...  \n",
       "2185    557.84    559.98    554.81    554.81      NGN  \n",
       "2186    561.29    580.89    541.64    541.64      NGN  \n",
       "2187    544.01    561.97    526.05    541.30      NGN  \n",
       "2188    548.31    555.43    540.56    540.56      NGN  \n",
       "2189    547.39    561.76    533.02    539.94      NGN  \n",
       "\n",
       "[1971 rows x 10 columns]"
      ]
     },
     "execution_count": 11,
     "metadata": {},
     "output_type": "execute_result"
    }
   ],
   "source": [
    "# Convert 'Date' column to datetime format\n",
    "df['Date'] = pd.to_datetime(df['Date'], errors='coerce')\n",
    "df"
   ]
  },
  {
   "cell_type": "code",
   "execution_count": 12,
   "id": "ba33c65d-21ca-4816-8c4d-ed1344d253c4",
   "metadata": {},
   "outputs": [],
   "source": [
    "#Spilting the date column into day, month, year and dayofweek\n",
    "df[\"Year\"] = df[\"Date\"].dt.year\n",
    "df[\"Month\"] = df[\"Date\"].dt.month\n",
    "df[\"Day\"] = df[\"Date\"].dt.day"
   ]
  },
  {
   "cell_type": "code",
   "execution_count": 13,
   "id": "284427d0-3e09-4bfa-a745-79353461dad9",
   "metadata": {},
   "outputs": [
    {
     "data": {
      "text/html": [
       "<div>\n",
       "<style scoped>\n",
       "    .dataframe tbody tr th:only-of-type {\n",
       "        vertical-align: middle;\n",
       "    }\n",
       "\n",
       "    .dataframe tbody tr th {\n",
       "        vertical-align: top;\n",
       "    }\n",
       "\n",
       "    .dataframe thead th {\n",
       "        text-align: right;\n",
       "    }\n",
       "</style>\n",
       "<table border=\"1\" class=\"dataframe\">\n",
       "  <thead>\n",
       "    <tr style=\"text-align: right;\">\n",
       "      <th></th>\n",
       "      <th>Country</th>\n",
       "      <th>Region</th>\n",
       "      <th>Market</th>\n",
       "      <th>Product</th>\n",
       "      <th>Date</th>\n",
       "      <th>Open</th>\n",
       "      <th>High</th>\n",
       "      <th>Low</th>\n",
       "      <th>Close</th>\n",
       "      <th>Currency</th>\n",
       "      <th>Year</th>\n",
       "      <th>Month</th>\n",
       "      <th>Day</th>\n",
       "      <th>Avg_price</th>\n",
       "    </tr>\n",
       "  </thead>\n",
       "  <tbody>\n",
       "    <tr>\n",
       "      <th>219</th>\n",
       "      <td>Nigeria</td>\n",
       "      <td>Market Average</td>\n",
       "      <td>Market Average</td>\n",
       "      <td>cassava_meal</td>\n",
       "      <td>2007-01-01</td>\n",
       "      <td>10820.99</td>\n",
       "      <td>11003.31</td>\n",
       "      <td>10567.71</td>\n",
       "      <td>10867.12</td>\n",
       "      <td>NGN</td>\n",
       "      <td>2007</td>\n",
       "      <td>1</td>\n",
       "      <td>1</td>\n",
       "      <td>10814.7825</td>\n",
       "    </tr>\n",
       "    <tr>\n",
       "      <th>220</th>\n",
       "      <td>Nigeria</td>\n",
       "      <td>Market Average</td>\n",
       "      <td>Market Average</td>\n",
       "      <td>cassava_meal</td>\n",
       "      <td>2007-01-02</td>\n",
       "      <td>10831.49</td>\n",
       "      <td>11050.21</td>\n",
       "      <td>10612.76</td>\n",
       "      <td>10709.98</td>\n",
       "      <td>NGN</td>\n",
       "      <td>2007</td>\n",
       "      <td>1</td>\n",
       "      <td>2</td>\n",
       "      <td>10801.1100</td>\n",
       "    </tr>\n",
       "    <tr>\n",
       "      <th>221</th>\n",
       "      <td>Nigeria</td>\n",
       "      <td>Market Average</td>\n",
       "      <td>Market Average</td>\n",
       "      <td>cassava_meal</td>\n",
       "      <td>2007-01-03</td>\n",
       "      <td>10641.89</td>\n",
       "      <td>10844.51</td>\n",
       "      <td>10439.27</td>\n",
       "      <td>10632.82</td>\n",
       "      <td>NGN</td>\n",
       "      <td>2007</td>\n",
       "      <td>1</td>\n",
       "      <td>3</td>\n",
       "      <td>10639.6225</td>\n",
       "    </tr>\n",
       "    <tr>\n",
       "      <th>222</th>\n",
       "      <td>Nigeria</td>\n",
       "      <td>Market Average</td>\n",
       "      <td>Market Average</td>\n",
       "      <td>cassava_meal</td>\n",
       "      <td>2007-01-04</td>\n",
       "      <td>10586.58</td>\n",
       "      <td>10774.64</td>\n",
       "      <td>10398.52</td>\n",
       "      <td>10528.30</td>\n",
       "      <td>NGN</td>\n",
       "      <td>2007</td>\n",
       "      <td>1</td>\n",
       "      <td>4</td>\n",
       "      <td>10572.0100</td>\n",
       "    </tr>\n",
       "    <tr>\n",
       "      <th>223</th>\n",
       "      <td>Nigeria</td>\n",
       "      <td>Market Average</td>\n",
       "      <td>Market Average</td>\n",
       "      <td>cassava_meal</td>\n",
       "      <td>2007-01-05</td>\n",
       "      <td>10510.32</td>\n",
       "      <td>10687.74</td>\n",
       "      <td>10332.89</td>\n",
       "      <td>10619.99</td>\n",
       "      <td>NGN</td>\n",
       "      <td>2007</td>\n",
       "      <td>1</td>\n",
       "      <td>5</td>\n",
       "      <td>10537.7350</td>\n",
       "    </tr>\n",
       "    <tr>\n",
       "      <th>...</th>\n",
       "      <td>...</td>\n",
       "      <td>...</td>\n",
       "      <td>...</td>\n",
       "      <td>...</td>\n",
       "      <td>...</td>\n",
       "      <td>...</td>\n",
       "      <td>...</td>\n",
       "      <td>...</td>\n",
       "      <td>...</td>\n",
       "      <td>...</td>\n",
       "      <td>...</td>\n",
       "      <td>...</td>\n",
       "      <td>...</td>\n",
       "      <td>...</td>\n",
       "    </tr>\n",
       "    <tr>\n",
       "      <th>2185</th>\n",
       "      <td>Nigeria</td>\n",
       "      <td>Market Average</td>\n",
       "      <td>Market Average</td>\n",
       "      <td>yam</td>\n",
       "      <td>2024-01-11</td>\n",
       "      <td>557.84</td>\n",
       "      <td>559.98</td>\n",
       "      <td>554.81</td>\n",
       "      <td>554.81</td>\n",
       "      <td>NGN</td>\n",
       "      <td>2024</td>\n",
       "      <td>1</td>\n",
       "      <td>11</td>\n",
       "      <td>556.8600</td>\n",
       "    </tr>\n",
       "    <tr>\n",
       "      <th>2186</th>\n",
       "      <td>Nigeria</td>\n",
       "      <td>Market Average</td>\n",
       "      <td>Market Average</td>\n",
       "      <td>yam</td>\n",
       "      <td>2024-01-12</td>\n",
       "      <td>561.29</td>\n",
       "      <td>580.89</td>\n",
       "      <td>541.64</td>\n",
       "      <td>541.64</td>\n",
       "      <td>NGN</td>\n",
       "      <td>2024</td>\n",
       "      <td>1</td>\n",
       "      <td>12</td>\n",
       "      <td>556.3650</td>\n",
       "    </tr>\n",
       "    <tr>\n",
       "      <th>2187</th>\n",
       "      <td>Nigeria</td>\n",
       "      <td>Market Average</td>\n",
       "      <td>Market Average</td>\n",
       "      <td>yam</td>\n",
       "      <td>2025-01-01</td>\n",
       "      <td>544.01</td>\n",
       "      <td>561.97</td>\n",
       "      <td>526.05</td>\n",
       "      <td>541.30</td>\n",
       "      <td>NGN</td>\n",
       "      <td>2025</td>\n",
       "      <td>1</td>\n",
       "      <td>1</td>\n",
       "      <td>543.3325</td>\n",
       "    </tr>\n",
       "    <tr>\n",
       "      <th>2188</th>\n",
       "      <td>Nigeria</td>\n",
       "      <td>Market Average</td>\n",
       "      <td>Market Average</td>\n",
       "      <td>yam</td>\n",
       "      <td>2025-01-02</td>\n",
       "      <td>548.31</td>\n",
       "      <td>555.43</td>\n",
       "      <td>540.56</td>\n",
       "      <td>540.56</td>\n",
       "      <td>NGN</td>\n",
       "      <td>2025</td>\n",
       "      <td>1</td>\n",
       "      <td>2</td>\n",
       "      <td>546.2150</td>\n",
       "    </tr>\n",
       "    <tr>\n",
       "      <th>2189</th>\n",
       "      <td>Nigeria</td>\n",
       "      <td>Market Average</td>\n",
       "      <td>Market Average</td>\n",
       "      <td>yam</td>\n",
       "      <td>2025-01-03</td>\n",
       "      <td>547.39</td>\n",
       "      <td>561.76</td>\n",
       "      <td>533.02</td>\n",
       "      <td>539.94</td>\n",
       "      <td>NGN</td>\n",
       "      <td>2025</td>\n",
       "      <td>1</td>\n",
       "      <td>3</td>\n",
       "      <td>545.5275</td>\n",
       "    </tr>\n",
       "  </tbody>\n",
       "</table>\n",
       "<p>1971 rows × 14 columns</p>\n",
       "</div>"
      ],
      "text/plain": [
       "      Country          Region          Market       Product       Date  \\\n",
       "219   Nigeria  Market Average  Market Average  cassava_meal 2007-01-01   \n",
       "220   Nigeria  Market Average  Market Average  cassava_meal 2007-01-02   \n",
       "221   Nigeria  Market Average  Market Average  cassava_meal 2007-01-03   \n",
       "222   Nigeria  Market Average  Market Average  cassava_meal 2007-01-04   \n",
       "223   Nigeria  Market Average  Market Average  cassava_meal 2007-01-05   \n",
       "...       ...             ...             ...           ...        ...   \n",
       "2185  Nigeria  Market Average  Market Average           yam 2024-01-11   \n",
       "2186  Nigeria  Market Average  Market Average           yam 2024-01-12   \n",
       "2187  Nigeria  Market Average  Market Average           yam 2025-01-01   \n",
       "2188  Nigeria  Market Average  Market Average           yam 2025-01-02   \n",
       "2189  Nigeria  Market Average  Market Average           yam 2025-01-03   \n",
       "\n",
       "          Open      High       Low     Close Currency  Year  Month  Day  \\\n",
       "219   10820.99  11003.31  10567.71  10867.12      NGN  2007      1    1   \n",
       "220   10831.49  11050.21  10612.76  10709.98      NGN  2007      1    2   \n",
       "221   10641.89  10844.51  10439.27  10632.82      NGN  2007      1    3   \n",
       "222   10586.58  10774.64  10398.52  10528.30      NGN  2007      1    4   \n",
       "223   10510.32  10687.74  10332.89  10619.99      NGN  2007      1    5   \n",
       "...        ...       ...       ...       ...      ...   ...    ...  ...   \n",
       "2185    557.84    559.98    554.81    554.81      NGN  2024      1   11   \n",
       "2186    561.29    580.89    541.64    541.64      NGN  2024      1   12   \n",
       "2187    544.01    561.97    526.05    541.30      NGN  2025      1    1   \n",
       "2188    548.31    555.43    540.56    540.56      NGN  2025      1    2   \n",
       "2189    547.39    561.76    533.02    539.94      NGN  2025      1    3   \n",
       "\n",
       "       Avg_price  \n",
       "219   10814.7825  \n",
       "220   10801.1100  \n",
       "221   10639.6225  \n",
       "222   10572.0100  \n",
       "223   10537.7350  \n",
       "...          ...  \n",
       "2185    556.8600  \n",
       "2186    556.3650  \n",
       "2187    543.3325  \n",
       "2188    546.2150  \n",
       "2189    545.5275  \n",
       "\n",
       "[1971 rows x 14 columns]"
      ]
     },
     "execution_count": 13,
     "metadata": {},
     "output_type": "execute_result"
    }
   ],
   "source": [
    "# Create a new column for the average price of the product\n",
    "df['Avg_price'] = df[['Open', 'High', 'Low', 'Close']].mean(axis=1)\n",
    "df"
   ]
  },
  {
   "cell_type": "code",
   "execution_count": 14,
   "id": "3d3c8e50-6686-43af-b1ec-be62c2a59139",
   "metadata": {},
   "outputs": [
    {
     "name": "stdout",
     "output_type": "stream",
     "text": [
      "Avg_price    float64\n",
      "dtype: object\n"
     ]
    }
   ],
   "source": [
    "# Step 1: Remove non-numeric characters (commas, currency symbols, etc.)\n",
    "df['Avg_price'] = df['Avg_price'].replace('[^0-9\\.]', '', regex=True)\n",
    "\n",
    "# Step 2: Convert to float\n",
    "df['Avg_price'] = pd.to_numeric(df['Avg_price'], errors='coerce')  # invalid values become NaN\n",
    "\n",
    "# Step 3: Check the result\n",
    "print(df[['Avg_price']].dtypes)"
   ]
  },
  {
   "cell_type": "code",
   "execution_count": 15,
   "id": "1596c1a1-25e5-4f5f-9b52-5e5085d4a219",
   "metadata": {},
   "outputs": [],
   "source": [
    "#Drop some col\n",
    "df= df.drop(columns=['Country', 'Region', 'Market', 'Open', 'High', 'Low', 'Close', 'Currency'])\n",
    "\n",
    "#To drop the first row\n",
    "df = df.iloc[1:].reset_index(drop=True)"
   ]
  },
  {
   "cell_type": "markdown",
   "id": "8bf28d1d-e18a-41dd-9b5b-30a5b456a595",
   "metadata": {},
   "source": [
    "## EXPLORATORY DATA ANALYSIS"
   ]
  },
  {
   "cell_type": "code",
   "execution_count": 16,
   "id": "8633078d-52a6-442a-89a3-070843e544b8",
   "metadata": {},
   "outputs": [
    {
     "data": {
      "text/plain": [
       "count     1970.000000\n",
       "mean     19517.066376\n",
       "std      17665.054226\n",
       "min         54.647500\n",
       "25%       7701.048125\n",
       "50%      13504.035000\n",
       "75%      28486.286250\n",
       "max      84463.942500\n",
       "Name: Avg_price, dtype: float64"
      ]
     },
     "execution_count": 16,
     "metadata": {},
     "output_type": "execute_result"
    }
   ],
   "source": [
    "#Statistics description for the price column\n",
    "df['Avg_price'].describe()"
   ]
  },
  {
   "cell_type": "code",
   "execution_count": 17,
   "id": "0d707d3a-235d-477c-b7bb-f004ae488048",
   "metadata": {},
   "outputs": [
    {
     "data": {
      "image/png": "[encoded data removed]",
      "text/plain": [
       "<Figure size 640x480 with 1 Axes>"
      ]
     },
     "metadata": {},
     "output_type": "display_data"
    }
   ],
   "source": [
    "#Distribution of Price\n",
    "sns.histplot(df['Avg_price'], kde=True)\n",
    "plt.title('Distribution of Prices')\n",
    "plt.show()"
   ]
  },
  {
   "cell_type": "code",
   "execution_count": 18,
   "id": "f8c617ec-2b1a-4356-96f4-784d84500b0c",
   "metadata": {},
   "outputs": [
    {
     "data": {
      "image/png": "[encoded data removed]",
      "text/plain": [
       "<Figure size 800x600 with 1 Axes>"
      ]
     },
     "metadata": {},
     "output_type": "display_data"
    }
   ],
   "source": [
    "#check for outliers in price\n",
    "plt.figure(figsize=(8, 6))\n",
    "sns.boxplot(data=df['Avg_price'])\n",
    "plt.title('Box Plot of Price')\n",
    "plt.show()"
   ]
  },
  {
   "cell_type": "code",
   "execution_count": 19,
   "id": "112010e0-acae-4438-bd9e-6e8bcfafd31d",
   "metadata": {},
   "outputs": [
    {
     "name": "stdout",
     "output_type": "stream",
     "text": [
      "        Product       Date   Avg_price\n",
      "0  cassava_meal 2007-01-02  10801.1100\n",
      "1  cassava_meal 2007-01-03  10639.6225\n",
      "2  cassava_meal 2007-01-04  10572.0100\n",
      "3  cassava_meal 2007-01-05  10537.7350\n",
      "4  cassava_meal 2007-01-06  10675.1350\n"
     ]
    }
   ],
   "source": [
    "# Group by Product and Date to observe price trends over time\n",
    "price_trends = df.groupby([\"Product\", \"Date\"])[\"Avg_price\"].mean().reset_index()\n",
    "\n",
    "# Display first few rows of price trends\n",
    "print(price_trends.head())"
   ]
  },
  {
   "cell_type": "code",
   "execution_count": 20,
   "id": "3a121725-56ca-44a2-af6c-7afd4a883b56",
   "metadata": {},
   "outputs": [
    {
     "data": {
      "image/png": "[encoded data removed]",
      "text/plain": [
       "<Figure size 640x480 with 1 Axes>"
      ]
     },
     "metadata": {},
     "output_type": "display_data"
    }
   ],
   "source": [
    "#Trend of a specific commodity (e.g. Rice):\n",
    "df[df['Product'] == 'Rice'].groupby('Date')['Avg_price'].mean().plot()\n",
    "plt.title('Price Trend of Rice Over Time')\n",
    "plt.show()"
   ]
  },
  {
   "cell_type": "markdown",
   "id": "08f00f98-492e-4d8c-ac84-6c1ec1b1f861",
   "metadata": {},
   "source": [
    "## FEATURE ENGINEERING AND MODEL BUILDING"
   ]
  },
  {
   "cell_type": "code",
   "execution_count": 21,
   "id": "2ca5c919-cef7-4dcc-bd4e-e86966fa0274",
   "metadata": {},
   "outputs": [
    {
     "name": "stdout",
     "output_type": "stream",
     "text": [
      "Index(['Product'], dtype='object')\n"
     ]
    }
   ],
   "source": [
    "categorical_cols = df.select_dtypes(include='object').columns\n",
    "print(categorical_cols)"
   ]
  },
  {
   "cell_type": "code",
   "execution_count": 22,
   "id": "7537cca6-8cb8-4e60-9511-4f4286fab29a",
   "metadata": {},
   "outputs": [],
   "source": [
    "from sklearn.preprocessing import LabelEncoder\n",
    "\n",
    "label_encoders = {}  # Dictionary to store encoders\n",
    "\n",
    "# Loop through each categorical column and apply encoding\n",
    "for col in categorical_cols:\n",
    "    le = LabelEncoder()\n",
    "    df[col] = le.fit_transform(df[col])\n",
    "    label_encoders[col] = le  # Save the encoder"
   ]
  },
  {
   "cell_type": "code",
   "execution_count": 23,
   "id": "2aec83a5-3830-4a26-9e8d-acefb0509c94",
   "metadata": {},
   "outputs": [
    {
     "name": "stdout",
     "output_type": "stream",
     "text": [
      "Product mapping: {'cassava_meal': 0, 'cowpeas': 1, 'gari': 2, 'groundnuts': 3, 'maize': 4, 'millet': 5, 'rice': 6, 'sorghum': 7, 'yam': 8}\n"
     ]
    }
   ],
   "source": [
    "for col, le in label_encoders.items():\n",
    "    mapping = dict(zip(le.classes_, le.transform(le.classes_)))\n",
    "    print(f\"{col} mapping: {mapping}\")"
   ]
  },
  {
   "cell_type": "code",
   "execution_count": 24,
   "id": "ffbd6ebe-5ef7-4031-9128-5a19c9ba107d",
   "metadata": {},
   "outputs": [],
   "source": [
    "from sklearn.linear_model import LinearRegression\n",
    "from sklearn.ensemble import RandomForestRegressor \n",
    "from sklearn.ensemble import GradientBoostingRegressor\n",
    "from xgboost import XGBRegressor"
   ]
  },
  {
   "cell_type": "code",
   "execution_count": 25,
   "id": "0da3f2c9-adff-4b56-9c79-78b062e9543b",
   "metadata": {},
   "outputs": [],
   "source": [
    "from sklearn.model_selection import train_test_split\n",
    "from sklearn.metrics import mean_absolute_error, mean_squared_error, r2_score"
   ]
  },
  {
   "cell_type": "code",
   "execution_count": 26,
   "id": "941178cb-72b2-4a3b-9dd9-bb804ca4370d",
   "metadata": {},
   "outputs": [],
   "source": [
    "# Define features and target variable\n",
    "X = df.drop(columns=[\"Date\", \"Avg_price\"])\n",
    "y = df[\"Avg_price\"]\n",
    "\n",
    "# Split data into training and testing sets (80-20 split)\n",
    "X_train, X_test, y_train, y_test = train_test_split(X, y, test_size=0.2, random_state=42)"
   ]
  },
  {
   "cell_type": "code",
   "execution_count": 27,
   "id": "6760884e-433a-42df-bcd5-26c51e56b3cc",
   "metadata": {},
   "outputs": [
    {
     "name": "stdout",
     "output_type": "stream",
     "text": [
      "(1576, 4)\n",
      "(394, 4)\n"
     ]
    }
   ],
   "source": [
    "print(X_train.shape)\n",
    "\n",
    "print(X_test.shape)"
   ]
  },
  {
   "cell_type": "code",
   "execution_count": 28,
   "id": "eb67ee3a-7864-4b48-b346-4a3de52fb842",
   "metadata": {},
   "outputs": [],
   "source": [
    "import joblib"
   ]
  },
  {
   "cell_type": "code",
   "execution_count": 29,
   "id": "ed24bb3a-fe11-4da0-9a2d-fd3b1ac4e07f",
   "metadata": {},
   "outputs": [
    {
     "data": {
      "text/html": [
       "<div>\n",
       "<style scoped>\n",
       "    .dataframe tbody tr th:only-of-type {\n",
       "        vertical-align: middle;\n",
       "    }\n",
       "\n",
       "    .dataframe tbody tr th {\n",
       "        vertical-align: top;\n",
       "    }\n",
       "\n",
       "    .dataframe thead th {\n",
       "        text-align: right;\n",
       "    }\n",
       "</style>\n",
       "<table border=\"1\" class=\"dataframe\">\n",
       "  <thead>\n",
       "    <tr style=\"text-align: right;\">\n",
       "      <th></th>\n",
       "      <th>MAE</th>\n",
       "      <th>MSE</th>\n",
       "      <th>R2 Score</th>\n",
       "    </tr>\n",
       "  </thead>\n",
       "  <tbody>\n",
       "    <tr>\n",
       "      <th>XGBoost</th>\n",
       "      <td>750.807694</td>\n",
       "      <td>1.674605e+06</td>\n",
       "      <td>0.993701</td>\n",
       "    </tr>\n",
       "    <tr>\n",
       "      <th>Random Forest</th>\n",
       "      <td>773.125739</td>\n",
       "      <td>2.114637e+06</td>\n",
       "      <td>0.992045</td>\n",
       "    </tr>\n",
       "    <tr>\n",
       "      <th>Gradient Boosting</th>\n",
       "      <td>2398.981592</td>\n",
       "      <td>1.418578e+07</td>\n",
       "      <td>0.946637</td>\n",
       "    </tr>\n",
       "    <tr>\n",
       "      <th>Linear Regression</th>\n",
       "      <td>8832.799171</td>\n",
       "      <td>1.417772e+08</td>\n",
       "      <td>0.466672</td>\n",
       "    </tr>\n",
       "  </tbody>\n",
       "</table>\n",
       "</div>"
      ],
      "text/plain": [
       "                           MAE           MSE  R2 Score\n",
       "XGBoost             750.807694  1.674605e+06  0.993701\n",
       "Random Forest       773.125739  2.114637e+06  0.992045\n",
       "Gradient Boosting  2398.981592  1.418578e+07  0.946637\n",
       "Linear Regression  8832.799171  1.417772e+08  0.466672"
      ]
     },
     "execution_count": 29,
     "metadata": {},
     "output_type": "execute_result"
    }
   ],
   "source": [
    "# Define models\n",
    "models = {\n",
    "    \"Linear Regression\": LinearRegression(),\n",
    "    \"Random Forest\": RandomForestRegressor(),\n",
    "    \"Gradient Boosting\": GradientBoostingRegressor(),\n",
    "    \"XGBoost\": XGBRegressor()\n",
    "}\n",
    "\n",
    "from sklearn.metrics import mean_absolute_error, mean_squared_error, r2_score\n",
    "\n",
    "# Train and evaluate regression models\n",
    "results = {}\n",
    "best_model = None\n",
    "best_model_name = None\n",
    "best_r2 = float('-inf')  # Best model based on R2 score\n",
    "\n",
    "for name, model in models.items():\n",
    "    model.fit(X_train, y_train)\n",
    "    y_pred = model.predict(X_test)\n",
    "\n",
    "    # Evaluation metrics for regression\n",
    "    mae = mean_absolute_error(y_test, y_pred)\n",
    "    mse = mean_squared_error(y_test, y_pred)\n",
    "    r2 = r2_score(y_test, y_pred)\n",
    "\n",
    "    # Save the best model based on highest R2 score\n",
    "    if r2 > best_r2:\n",
    "        best_r2 = r2\n",
    "        best_model = model\n",
    "        best_model_name = name\n",
    "\n",
    "    results[name] = {\n",
    "        \"MAE\": mae,\n",
    "        \"MSE\": mse,\n",
    "        \"R2 Score\": r2\n",
    "    }\n",
    "\n",
    "# Convert results to DataFrame\n",
    "results_df = pd.DataFrame(results).T.sort_values(by=\"R2 Score\", ascending=False)\n",
    "results_df"
   ]
  },
  {
   "cell_type": "code",
   "execution_count": 30,
   "id": "a56e1c8e-355e-40cb-89ab-c883228681ea",
   "metadata": {},
   "outputs": [
    {
     "data": {
      "text/plain": [
       "array([20799.654 , 23634.459 , 24564.572 , 12820.337 ,  4670.7593,\n",
       "       35313.965 , 15470.409 , 10978.912 , 16452.31  ,  6091.931 ],\n",
       "      dtype=float32)"
      ]
     },
     "execution_count": 30,
     "metadata": {},
     "output_type": "execute_result"
    }
   ],
   "source": [
    "y_pred[:10]"
   ]
  },
  {
   "cell_type": "code",
   "execution_count": 31,
   "id": "2e1326ed-3f29-4f55-8530-d752c8b2c818",
   "metadata": {},
   "outputs": [
    {
     "data": {
      "image/png": "[encoded data removed]",
      "text/plain": [
       "<Figure size 1000x600 with 1 Axes>"
      ]
     },
     "metadata": {},
     "output_type": "display_data"
    }
   ],
   "source": [
    "# Get feature importances\n",
    "importances = best_model.feature_importances_\n",
    "feature_names = X_train.columns\n",
    "\n",
    "# Create a DataFrame for visualization\n",
    "feat_importances = pd.Series(importances, index=feature_names)\n",
    "feat_importances = feat_importances.sort_values(ascending=True)\n",
    "\n",
    "# Plot\n",
    "plt.figure(figsize=(10, 6))\n",
    "sns.barplot(x=feat_importances, y=feat_importances.index)\n",
    "plt.title('Feature Importances')\n",
    "plt.xlabel('Importance Score')\n",
    "plt.ylabel('Features')\n",
    "plt.tight_layout()\n",
    "plt.show()"
   ]
  },
  {
   "cell_type": "code",
   "execution_count": 32,
   "id": "9ed84b75-6ad0-4057-8f3c-cecb59225936",
   "metadata": {},
   "outputs": [
    {
     "data": {
      "image/png": "[encoded data removed]",
      "text/plain": [
       "<Figure size 800x600 with 1 Axes>"
      ]
     },
     "metadata": {},
     "output_type": "display_data"
    }
   ],
   "source": [
    "# Predict on test data\n",
    "y_pred = best_model.predict(X_test)\n",
    "\n",
    "# Plot\n",
    "plt.figure(figsize=(8, 6))\n",
    "sns.scatterplot(x=y_test, y=y_pred, color='blue', alpha=0.6)\n",
    "plt.plot([y_test.min(), y_test.max()], [y_test.min(), y_test.max()], '--r')  # perfect prediction line\n",
    "plt.xlabel('Actual Values')\n",
    "plt.ylabel('Predicted Values')\n",
    "plt.title('Actual vs. Predicted Values')\n",
    "plt.tight_layout()\n",
    "plt.show()"
   ]
  },
  {
   "cell_type": "code",
   "execution_count": 33,
   "id": "5bf72010-1f80-442f-92a9-a1a4add2c4fc",
   "metadata": {},
   "outputs": [
    {
     "name": "stdout",
     "output_type": "stream",
     "text": [
      "Best Model: XGBoost (R² Score: 99.37%)\n"
     ]
    }
   ],
   "source": [
    "# Save the best model\n",
    "joblib.dump(best_model, \"food_price_model.pkl\")\n",
    "print(f\"Best Model: {best_model_name} (R² Score: {best_r2:.2%})\")"
   ]
  },
  {
   "cell_type": "code",
   "execution_count": 34,
   "id": "4c4ac385-c749-4cf8-b731-11f8a7637a68",
   "metadata": {},
   "outputs": [
    {
     "data": {
      "text/html": [
       "<div>\n",
       "<style scoped>\n",
       "    .dataframe tbody tr th:only-of-type {\n",
       "        vertical-align: middle;\n",
       "    }\n",
       "\n",
       "    .dataframe tbody tr th {\n",
       "        vertical-align: top;\n",
       "    }\n",
       "\n",
       "    .dataframe thead th {\n",
       "        text-align: right;\n",
       "    }\n",
       "</style>\n",
       "<table border=\"1\" class=\"dataframe\">\n",
       "  <thead>\n",
       "    <tr style=\"text-align: right;\">\n",
       "      <th></th>\n",
       "      <th>Product</th>\n",
       "      <th>Date</th>\n",
       "      <th>Year</th>\n",
       "      <th>Month</th>\n",
       "      <th>Day</th>\n",
       "      <th>Avg_price</th>\n",
       "    </tr>\n",
       "  </thead>\n",
       "  <tbody>\n",
       "    <tr>\n",
       "      <th>0</th>\n",
       "      <td>0</td>\n",
       "      <td>2007-01-02</td>\n",
       "      <td>2007</td>\n",
       "      <td>1</td>\n",
       "      <td>2</td>\n",
       "      <td>10801.1100</td>\n",
       "    </tr>\n",
       "    <tr>\n",
       "      <th>1</th>\n",
       "      <td>0</td>\n",
       "      <td>2007-01-03</td>\n",
       "      <td>2007</td>\n",
       "      <td>1</td>\n",
       "      <td>3</td>\n",
       "      <td>10639.6225</td>\n",
       "    </tr>\n",
       "    <tr>\n",
       "      <th>2</th>\n",
       "      <td>0</td>\n",
       "      <td>2007-01-04</td>\n",
       "      <td>2007</td>\n",
       "      <td>1</td>\n",
       "      <td>4</td>\n",
       "      <td>10572.0100</td>\n",
       "    </tr>\n",
       "  </tbody>\n",
       "</table>\n",
       "</div>"
      ],
      "text/plain": [
       "   Product       Date  Year  Month  Day   Avg_price\n",
       "0        0 2007-01-02  2007      1    2  10801.1100\n",
       "1        0 2007-01-03  2007      1    3  10639.6225\n",
       "2        0 2007-01-04  2007      1    4  10572.0100"
      ]
     },
     "execution_count": 34,
     "metadata": {},
     "output_type": "execute_result"
    }
   ],
   "source": [
    "df.head(3)"
   ]
  },
  {
   "cell_type": "code",
   "execution_count": 35,
   "id": "6c6c2f85-06d3-4bac-8ea1-886fafab76d0",
   "metadata": {},
   "outputs": [
    {
     "name": "stdout",
     "output_type": "stream",
     "text": [
      "[10816.761]\n"
     ]
    }
   ],
   "source": [
    "# Load the saved model\n",
    "best_model = joblib.load(\"food_price_model.pkl\")\n",
    "\n",
    "# Define a single input with TotalIncome included\n",
    "single_input_1 = np.array([[0,  # Product - Cassava_meal\n",
    "                          2007,  # Year\n",
    "                          1,    # Month\n",
    "                          2]])   # Day\n",
    "                          \n",
    "\n",
    "# Make a prediction\n",
    "y_pred_scaled_1 = best_model.predict(single_input_1)\n",
    "print(y_pred_scaled_1)"
   ]
  },
  {
   "cell_type": "code",
   "execution_count": 42,
   "id": "86ef890a-0f63-474c-a98e-6eadf2b6faf9",
   "metadata": {},
   "outputs": [
    {
     "name": "stdout",
     "output_type": "stream",
     "text": [
      "[72472.36]\n"
     ]
    }
   ],
   "source": [
    "# Load the saved model\n",
    "best_model = joblib.load(\"food_price_model.pkl\")\n",
    "\n",
    "# Define a single input with TotalIncome included\n",
    "single_input_2 = np.array([[0,  # Product - Cassava_meal\n",
    "                          2025,  # Year\n",
    "                          5,    # Month\n",
    "                          10]])   # Day\n",
    "                          \n",
    "\n",
    "# Make a prediction\n",
    "y_pred_scaled_2 = best_model.predict(single_input_2)\n",
    "print(y_pred_scaled_2)"
   ]
  },
  {
   "cell_type": "code",
   "execution_count": 43,
   "id": "14f5a467-29d5-426f-a51b-3a806c5889dc",
   "metadata": {},
   "outputs": [
    {
     "name": "stdout",
     "output_type": "stream",
     "text": [
      "[80489.67]\n"
     ]
    }
   ],
   "source": [
    "# Load the saved model\n",
    "best_model = joblib.load(\"food_price_model.pkl\")\n",
    "\n",
    "# Define a single input with TotalIncome included\n",
    "single_input_3 = np.array([[3,  # Product - Groundnut\n",
    "                          2024,  # Year\n",
    "                          4,    # Month\n",
    "                          12]])   # Day\n",
    "                          \n",
    "\n",
    "# Make a prediction\n",
    "y_pred_scaled_3 = best_model.predict(single_input_3)\n",
    "print(y_pred_scaled_3)"
   ]
  },
  {
   "cell_type": "code",
   "execution_count": 44,
   "id": "e392c481-54ab-4231-9c4c-e7f531351e00",
   "metadata": {},
   "outputs": [
    {
     "name": "stdout",
     "output_type": "stream",
     "text": [
      "[82778.88]\n"
     ]
    }
   ],
   "source": [
    "# Load the saved model\n",
    "best_model = joblib.load(\"food_price_model.pkl\")\n",
    "\n",
    "# Define a single input with TotalIncome included\n",
    "single_input_7 = np.array([[3,  # Product - Groundnut\n",
    "                          2025,  # Year\n",
    "                          4,    # Month\n",
    "                          12]])   # Day\n",
    "                          \n",
    "\n",
    "# Make a prediction\n",
    "y_pred_scaled_7 = best_model.predict(single_input_7)\n",
    "print(y_pred_scaled_7)"
   ]
  },
  {
   "cell_type": "code",
   "execution_count": 45,
   "id": "2a7579dc-8b0a-4b59-88f8-49101c0268a1",
   "metadata": {},
   "outputs": [
    {
     "name": "stdout",
     "output_type": "stream",
     "text": [
      "[74597.78]\n"
     ]
    }
   ],
   "source": [
    "# Load the saved model\n",
    "best_model = joblib.load(\"food_price_model.pkl\")\n",
    "\n",
    "# Define a single input with TotalIncome included\n",
    "single_input_4 = np.array([[6,  # Product - Rice\n",
    "                          2024,  # Year\n",
    "                          4,    # Month\n",
    "                          12]])   # Day\n",
    "                          \n",
    "\n",
    "# Make a prediction\n",
    "y_pred_scaled_4 = best_model.predict(single_input_4)\n",
    "print(y_pred_scaled_4)"
   ]
  },
  {
   "cell_type": "code",
   "execution_count": 46,
   "id": "01f4fdbb-78de-4bf2-859f-f8bd8bc2e4f2",
   "metadata": {},
   "outputs": [
    {
     "name": "stdout",
     "output_type": "stream",
     "text": [
      "[81501.07]\n"
     ]
    }
   ],
   "source": [
    "# Load the saved model\n",
    "best_model = joblib.load(\"food_price_model.pkl\")\n",
    "\n",
    "# Define a single input with TotalIncome included\n",
    "single_input_5 = np.array([[6,  # Product - Rice\n",
    "                          2025,  # Year\n",
    "                          3,    # Month\n",
    "                          27]])   # Day\n",
    "                          \n",
    "\n",
    "# Make a prediction\n",
    "y_pred_scaled_5 = best_model.predict(single_input_5)\n",
    "print(y_pred_scaled_5)"
   ]
  },
  {
   "cell_type": "code",
   "execution_count": 47,
   "id": "c9443388-7b23-4cdb-8e89-2a8520513a25",
   "metadata": {},
   "outputs": [
    {
     "name": "stdout",
     "output_type": "stream",
     "text": [
      "[835.3273]\n"
     ]
    }
   ],
   "source": [
    "# Load the saved model\n",
    "best_model = joblib.load(\"food_price_model.pkl\")\n",
    "\n",
    "# Define a single input with TotalIncome included\n",
    "single_input_6 = np.array([[8,  # Product - Yam\n",
    "                          2025,  # Year\n",
    "                          4,    # Month\n",
    "                          27]])   # Day\n",
    "                          \n",
    "\n",
    "# Make a prediction\n",
    "y_pred_scaled_6 = best_model.predict(single_input_6)\n",
    "print(y_pred_scaled_6)"
   ]
  },
  {
   "cell_type": "code",
   "execution_count": null,
   "id": "30667ca9-4e21-4852-882d-f7fdb76a91ab",
   "metadata": {},
   "outputs": [],
   "source": []
  }
 ],
 "metadata": {
  "kernelspec": {
   "display_name": "Python 3 (ipykernel)",
   "language": "python",
   "name": "python3"
  },
  "language_info": {
   "codemirror_mode": {
    "name": "ipython",
    "version": 3
   },
   "file_extension": ".py",
   "mimetype": "text/x-python",
   "name": "python",
   "nbconvert_exporter": "python",
   "pygments_lexer": "ipython3",
   "version": "3.12.7"
  }
 },
 "nbformat": 4,
 "nbformat_minor": 5
}
